{
 "cells": [
  {
   "cell_type": "code",
   "execution_count": 1,
   "metadata": {
    "metadata": {}
   },
   "outputs": [],
   "source": [
    "#Given the code contain few example of about matrix opertaion and somr linear-alzebra concept\n",
    "import numpy as np\n"
   ]
  },
  {
   "cell_type": "code",
   "execution_count": 2,
   "metadata": {
    "metadata": {}
   },
   "outputs": [
    {
     "name": "stdout",
     "output_type": "stream",
     "text": [
      "0 column mean= 2.5\n",
      "1 column mean= 3.5\n",
      "2 column mean= 4.5\n"
     ]
    }
   ],
   "source": [
    "#41\n",
    "arr = np.array([[1, 2, 3], [4, 5, 6]])\n",
    "a,b=arr.shape\n",
    "for i in range(b):\n",
    "    print(i,\"column mean=\",arr[:,i].mean())\n",
    "    "
   ]
  },
  {
   "cell_type": "code",
   "execution_count": 3,
   "metadata": {
    "metadata": {}
   },
   "outputs": [
    {
     "name": "stdout",
     "output_type": "stream",
     "text": [
      "0 row have maximun element 3\n",
      "1 row have maximun element 6\n"
     ]
    }
   ],
   "source": [
    "#42\n",
    "arr = np.array([[1, 2, 3], [4, 5, 6]])\n",
    "a,b=arr.shape\n",
    "for i in range(a):\n",
    "    print(i,\"row have maximun element\",arr[i].max())"
   ]
  },
  {
   "cell_type": "code",
   "execution_count": 4,
   "metadata": {
    "metadata": {}
   },
   "outputs": [
    {
     "data": {
      "text/plain": [
       "[[0, 1], [1, 1], [2, 1]]"
      ]
     },
     "execution_count": 4,
     "metadata": {},
     "output_type": "execute_result"
    }
   ],
   "source": [
    "#43\n",
    "arr = np.array([[1, 2, 3], [4, 5, 6]])\n",
    "a,b=arr.shape\n",
    "lmax=[]\n",
    "for i in range(b):\n",
    "    lmax.append(arr[:,i].max())\n",
    "lmax\n",
    "count=0\n",
    "l2=[]\n",
    "for i in range (b):\n",
    "    for j in range (a):\n",
    "        if (lmax[i]==arr[j,i]):\n",
    "            l2.append(list([i,j]))\n",
    "l2"
   ]
  },
  {
   "cell_type": "code",
   "execution_count": 5,
   "metadata": {
    "metadata": {}
   },
   "outputs": [
    {
     "data": {
      "text/plain": [
       "[6, 15]"
      ]
     },
     "execution_count": 5,
     "metadata": {},
     "output_type": "execute_result"
    }
   ],
   "source": [
    "#44\n",
    "#costum function to sum along rows\n",
    "arr = np.array([[1, 2, 3], [4, 5, 6]])\n",
    "def sum_row(a,row):\n",
    "    l=[]\n",
    "    for i in range (row):\n",
    "        l.append(a[i].sum())\n",
    "    return l\n",
    "sum_row(arr,2)"
   ]
  },
  {
   "cell_type": "code",
   "execution_count": 6,
   "metadata": {
    "metadata": {}
   },
   "outputs": [
    {
     "name": "stdout",
     "output_type": "stream",
     "text": [
      "False\n",
      "False\n",
      "False\n"
     ]
    }
   ],
   "source": [
    "#45\n",
    "arr = np.array([[2, 4, 6], [3, 5, 7]])\n",
    "a,b=arr.shape\n",
    "c=np.zeros((a,b))\n",
    "for i in range (a):\n",
    "    for j in range (b):\n",
    "        if arr[i][j]%2==0:\n",
    "            c[i][j]+=1\n",
    "for i in range (b):\n",
    "    if 0 in arr[:,i]:print(\"fg\")\n",
    "    else:print(False)"
   ]
  },
  {
   "cell_type": "code",
   "execution_count": 7,
   "metadata": {},
   "outputs": [
    {
     "data": {
      "text/plain": [
       "array([[1, 2, 3],\n",
       "       [4, 5, 6]])"
      ]
     },
     "execution_count": 7,
     "metadata": {},
     "output_type": "execute_result"
    }
   ],
   "source": [
    "#46\n",
    "original_array = np.array([1, 2, 3, 4, 5, 6])\n",
    "original_array.reshape(2,-1)\n"
   ]
  },
  {
   "cell_type": "code",
   "execution_count": 8,
   "metadata": {},
   "outputs": [
    {
     "data": {
      "text/plain": [
       "array([[1, 2],\n",
       "       [3, 4],\n",
       "       [5, 6],\n",
       "       [7, 8]])"
      ]
     },
     "execution_count": 8,
     "metadata": {},
     "output_type": "execute_result"
    }
   ],
   "source": [
    "#48\n",
    "array1 = np.array([[1, 2], [3, 4]])\n",
    "array2 = np.array([[5, 6], [7, 8]])\n",
    "np.concatenate((array1,array2),axis=0)"
   ]
  },
  {
   "cell_type": "code",
   "execution_count": 9,
   "metadata": {},
   "outputs": [
    {
     "data": {
      "text/plain": [
       "[[1, 4, 7], [2, 5, 8], [3, 6, 9]]"
      ]
     },
     "execution_count": 9,
     "metadata": {},
     "output_type": "execute_result"
    }
   ],
   "source": [
    "#49\n",
    "original_array = np.array([[1, 2, 3], [4, 5, 6], [7, 8, 9]])\n",
    "def splits(array,axis):\n",
    "    a,b=array.shape\n",
    "    l =[]\n",
    "    if axis == 0:\n",
    "        for i in range(a):\n",
    "            l.append(list(array[i]))\n",
    "    if axis==1:\n",
    "        for i in range(b):\n",
    "            l.append(list(array[:,i]))\n",
    "    return l\n",
    "splits(original_array,1)"
   ]
  },
  {
   "cell_type": "code",
   "execution_count": 10,
   "metadata": {},
   "outputs": [
    {
     "data": {
      "text/plain": [
       "array([1, 2, 3, 5])"
      ]
     },
     "execution_count": 10,
     "metadata": {},
     "output_type": "execute_result"
    }
   ],
   "source": [
    "#50\n",
    "def insertion(array,index,value):\n",
    "\n",
    "    c=np.insert(array,index,value)\n",
    "    return c\n",
    "def delition(array,index):\n",
    "    return np.delete(array,index)\n",
    "    \n",
    "original_array = np.array([1, 2, 3, 4, 5])\n",
    "indices_to_insert = [2, 4]\n",
    "values_to_insert = [10, 11]\n",
    "insertion(original_array,2,10)\n",
    "insertion(original_array,4,11)\n",
    "delition(original_array,1)\n",
    "delition(original_array,3)"
   ]
  },
  {
   "cell_type": "code",
   "execution_count": 11,
   "metadata": {},
   "outputs": [
    {
     "data": {
      "text/plain": [
       "array([ 5,  9,  7,  9,  7,  7,  8, 14, 17, 12])"
      ]
     },
     "execution_count": 11,
     "metadata": {},
     "output_type": "execute_result"
    }
   ],
   "source": [
    "#51\n",
    "a=np.random.randint(1,10,size=10)\n",
    "b=np.array([1,2,3,4,5,6,7,8,9,10])\n",
    "a+b"
   ]
  },
  {
   "cell_type": "code",
   "execution_count": 12,
   "metadata": {},
   "outputs": [
    {
     "data": {
      "text/plain": [
       "array([ 9,  7,  5,  3,  1, -1, -3, -5, -7, -9])"
      ]
     },
     "execution_count": 12,
     "metadata": {},
     "output_type": "execute_result"
    }
   ],
   "source": [
    "#52\n",
    "arr1=np.array([ i for i in range(10,0,-1)])\n",
    "arr2=np.array([i for i in range(1,11,1)])\n",
    "arr1-arr2"
   ]
  },
  {
   "cell_type": "code",
   "execution_count": 13,
   "metadata": {},
   "outputs": [
    {
     "data": {
      "text/plain": [
       "array([[ 4,  2,  3, 12],\n",
       "       [ 1,  1,  3,  8],\n",
       "       [ 2,  4,  4,  3]])"
      ]
     },
     "execution_count": 13,
     "metadata": {},
     "output_type": "execute_result"
    }
   ],
   "source": [
    "#53\n",
    "arr1=np.random.randint(1,5,size=(3,4))\n",
    "arr2=np.random.randint(1,5,size=(3,4))\n",
    "arr1*arr2"
   ]
  },
  {
   "cell_type": "code",
   "execution_count": 14,
   "metadata": {},
   "outputs": [
    {
     "data": {
      "text/plain": [
       "array([ 2.        ,  1.33333333,  1.5       ,  4.        , 10.        ])"
      ]
     },
     "execution_count": 14,
     "metadata": {},
     "output_type": "execute_result"
    }
   ],
   "source": [
    "#54\n",
    "arr1=np.array( [i for i in range(2,11,2)])\n",
    "arr2=np.random.randint(1,5,size=5)\n",
    "arr1/arr2"
   ]
  },
  {
   "cell_type": "code",
   "execution_count": 15,
   "metadata": {},
   "outputs": [
    {
     "data": {
      "text/plain": [
       "array([ 1, 16, 27, 16,  5])"
      ]
     },
     "execution_count": 15,
     "metadata": {},
     "output_type": "execute_result"
    }
   ],
   "source": [
    "#55\n",
    "arr1=np.array([i for i in range(1,6)])\n",
    "arr2=np.array([i for i in range(5,0,-1)])\n",
    "arr1**arr2\n"
   ]
  },
  {
   "cell_type": "code",
   "execution_count": 16,
   "metadata": {},
   "outputs": [
    {
     "data": {
      "text/plain": [
       "3"
      ]
     },
     "execution_count": 16,
     "metadata": {},
     "output_type": "execute_result"
    }
   ],
   "source": [
    "#56\n",
    "def count(arr,str):\n",
    "    count=0\n",
    "    for i in arr:\n",
    "        if i==str:\n",
    "            count +=1\n",
    "    return count\n",
    "arr = np.array(['hello', 'world', 'hello', 'numpy', 'hello'])\n",
    "count(arr,'hello')"
   ]
  },
  {
   "cell_type": "code",
   "execution_count": 17,
   "metadata": {},
   "outputs": [
    {
     "data": {
      "text/plain": [
       "['H', 'W', 'O', 'A', 'I', 'G', 'P', 'T']"
      ]
     },
     "execution_count": 17,
     "metadata": {},
     "output_type": "execute_result"
    }
   ],
   "source": [
    "#57\n",
    "arr = np.array(['Hello', 'World', 'OpenAI', 'GPT'])\n",
    "def extract_uper(array):\n",
    "    l=[]\n",
    "    for i in array:\n",
    "        for j in i:\n",
    "            if j.isupper() == True:l.append(j)\n",
    "    return l\n",
    "extract_uper(arr)"
   ]
  },
  {
   "cell_type": "code",
   "execution_count": 18,
   "metadata": {},
   "outputs": [
    {
     "data": {
      "text/plain": [
       "array(['Changed', 'banana', 'grape', 'Changed'], dtype='<U9')"
      ]
     },
     "execution_count": 18,
     "metadata": {},
     "output_type": "execute_result"
    }
   ],
   "source": [
    "#58\n",
    "def replace(arr,str):\n",
    "    for i in range(len(arr)):\n",
    "        if str in arr[i]: arr[i]=\"Changed\"\n",
    "    return arr    \n",
    "arr = np.array(['apple', 'banana', 'grape', 'pineapple'])\n",
    "replace(arr,\"apple\")  "
   ]
  },
  {
   "cell_type": "code",
   "execution_count": 19,
   "metadata": {},
   "outputs": [
    {
     "data": {
      "text/plain": [
       "array(['HelloOpen', 'WorldAI'], dtype='<U9')"
      ]
     },
     "execution_count": 19,
     "metadata": {},
     "output_type": "execute_result"
    }
   ],
   "source": [
    "#59\n",
    "def conca(arr1,arr2):\n",
    "    l=len(arr1)\n",
    "    l1=[]\n",
    "    for i in range(l):\n",
    "        l1.append(arr1[i]+arr2[i])\n",
    "    return(np.array(l1))\n",
    "arr1 = np.array(['Hello', 'World'])\n",
    "arr2 = np.array(['Open', 'AI'])\n",
    "conca(arr1,arr2)"
   ]
  },
  {
   "cell_type": "code",
   "execution_count": 20,
   "metadata": {},
   "outputs": [
    {
     "data": {
      "text/plain": [
       "9"
      ]
     },
     "execution_count": 20,
     "metadata": {},
     "output_type": "execute_result"
    }
   ],
   "source": [
    "def largelength(array):\n",
    "    l=[]\n",
    "    for i in array:\n",
    "        l.append(len(i))\n",
    "    return max(l)\n",
    "arr = np.array(['apple', 'banana', 'grape', 'pineapple'])\n",
    "largelength(arr)"
   ]
  },
  {
   "cell_type": "code",
   "execution_count": 21,
   "metadata": {},
   "outputs": [
    {
     "name": "stdout",
     "output_type": "stream",
     "text": [
      "53.53\n",
      "57.5\n",
      "29.316703429956107\n"
     ]
    }
   ],
   "source": [
    "#61\n",
    "a=np.random.randint(1,100,size=100)\n",
    "print(np.mean(a))\n",
    "print(np.median(a))\n",
    "print(np.std(a))\n"
   ]
  },
  {
   "cell_type": "code",
   "execution_count": 22,
   "metadata": {},
   "outputs": [
    {
     "name": "stdout",
     "output_type": "stream",
     "text": [
      "15.25\n",
      "74.75\n"
     ]
    }
   ],
   "source": [
    "#61\n",
    "a=np.random.randint(1,100,size=50)\n",
    "print(np.percentile(a,25)) #25 th persentile\n",
    "print(np.percentile(a,75)) #75 th persentile"
   ]
  },
  {
   "cell_type": "code",
   "execution_count": 23,
   "metadata": {},
   "outputs": [
    {
     "data": {
      "text/plain": [
       "array([[ 35,  51,  37,  65,  51],\n",
       "       [ 94, 126,  99, 149, 117],\n",
       "       [ 71,  85,  83,  93,  75],\n",
       "       [ 61,  91,  60, 116,  90]])"
      ]
     },
     "execution_count": 23,
     "metadata": {},
     "output_type": "execute_result"
    }
   ],
   "source": [
    "#64\n",
    "a=np.random.randint(1,10,size=(4,3))\n",
    "b=np.random.randint(1,10,size=(3,5))\n",
    "np.dot(a,b)"
   ]
  },
  {
   "cell_type": "code",
   "execution_count": 24,
   "metadata": {},
   "outputs": [
    {
     "name": "stdout",
     "output_type": "stream",
     "text": [
      "138.70000000000002\n",
      "508.0\n",
      "875.5\n"
     ]
    }
   ],
   "source": [
    "#65\n",
    "a=np.random.randint(10,1000,size=50)\n",
    "print(np.percentile(a,10))\n",
    "print(np.percentile(a,50))\n",
    "print(np.percentile(a,90))"
   ]
  },
  {
   "cell_type": "code",
   "execution_count": 25,
   "metadata": {},
   "outputs": [
    {
     "data": {
      "text/plain": [
       "array([33,  5, 88, 56,  3, 28, 46], dtype=int16)"
      ]
     },
     "execution_count": 25,
     "metadata": {},
     "output_type": "execute_result"
    }
   ],
   "source": [
    "#67\n",
    "a=np.array([33,5,88,56,3,28,46])\n",
    "np.short(a)"
   ]
  },
  {
   "cell_type": "code",
   "execution_count": 26,
   "metadata": {},
   "outputs": [
    {
     "data": {
      "text/plain": [
       "array([25, 42, 30])"
      ]
     },
     "execution_count": 26,
     "metadata": {},
     "output_type": "execute_result"
    }
   ],
   "source": [
    "#68\n",
    "def filter_20(arr):\n",
    "    l=[]\n",
    "    for i in arr:\n",
    "        if i>=20:l.append(i)\n",
    "    return np.array(l)\n",
    "arr = np.array([12, 25, 6, 42, 8, 30])\n",
    "filter_20(arr)"
   ]
  },
  {
   "cell_type": "code",
   "execution_count": 27,
   "metadata": {},
   "outputs": [
    {
     "data": {
      "text/plain": [
       "array([12, 15])"
      ]
     },
     "execution_count": 27,
     "metadata": {},
     "output_type": "execute_result"
    }
   ],
   "source": [
    "#69\n",
    "def filter_divisible_3(arr):\n",
    "    l=[]\n",
    "    for i in arr:\n",
    "        if i%3==0: l.append(i)\n",
    "    return np.array(l)\n",
    "arr = np.array([1, 5, 8, 12, 15])\n",
    "filter_divisible_3(arr)\n"
   ]
  },
  {
   "cell_type": "code",
   "execution_count": 28,
   "metadata": {},
   "outputs": [
    {
     "data": {
      "text/plain": [
       "[20, 30, 40]"
      ]
     },
     "execution_count": 28,
     "metadata": {},
     "output_type": "execute_result"
    }
   ],
   "source": [
    "#70\n",
    "def filter_20_40(arr):\n",
    "    l=[]\n",
    "    for i in arr:\n",
    "        if i>=20 and i<=40 : l.append(i)\n",
    "    return l\n",
    "arr = np.array([10, 20, 30, 40, 50])\n",
    "filter_20_40(arr)"
   ]
  },
  {
   "cell_type": "code",
   "execution_count": 29,
   "metadata": {},
   "outputs": [
    {
     "name": "stdout",
     "output_type": "stream",
     "text": [
      "<class 'numpy.int64'>\n",
      "<class 'numpy.int64'>\n",
      "<class 'numpy.int64'>\n"
     ]
    }
   ],
   "source": [
    "#71\n",
    "arr = np.array([1, 2, 3])\n",
    "for i in arr:\n",
    "    print(type(i))"
   ]
  },
  {
   "cell_type": "code",
   "execution_count": 30,
   "metadata": {},
   "outputs": [
    {
     "data": {
      "text/plain": [
       "array([16777216, 33554432, 50331648], dtype=int32)"
      ]
     },
     "execution_count": 30,
     "metadata": {},
     "output_type": "execute_result"
    }
   ],
   "source": [
    "#72\n",
    "arr = np.array([1, 2, 3], dtype=np.int32)\n",
    "arr.byteswap()"
   ]
  },
  {
   "cell_type": "code",
   "execution_count": 31,
   "metadata": {},
   "outputs": [
    {
     "data": {
      "text/plain": [
       "array([16777216, 33554432, 50331648], dtype=int32)"
      ]
     },
     "execution_count": 31,
     "metadata": {},
     "output_type": "execute_result"
    }
   ],
   "source": [
    "#73\n",
    "arr = np.array([1, 2, 3], dtype=np.int32)\n",
    "arr.byteswap()"
   ]
  },
  {
   "cell_type": "code",
   "execution_count": 32,
   "metadata": {},
   "outputs": [
    {
     "data": {
      "text/plain": [
       "array([[10,  5, 13, 13],\n",
       "       [ 6,  3,  8,  8],\n",
       "       [ 8,  4, 11, 11]])"
      ]
     },
     "execution_count": 32,
     "metadata": {},
     "output_type": "execute_result"
    }
   ],
   "source": [
    "#82\n",
    "c=np.random.randint(1,4,size=(3,2))\n",
    "d=np.random.randint(1,4,size=(2,4))\n",
    "np.dot(c,d)"
   ]
  },
  {
   "cell_type": "code",
   "execution_count": 33,
   "metadata": {},
   "outputs": [
    {
     "data": {
      "text/plain": [
       "array([[1, 3, 1],\n",
       "       [2, 1, 4],\n",
       "       [3, 1, 4],\n",
       "       [1, 4, 3],\n",
       "       [3, 1, 3],\n",
       "       [4, 2, 3]])"
      ]
     },
     "execution_count": 33,
     "metadata": {},
     "output_type": "execute_result"
    }
   ],
   "source": [
    "#83\n",
    "e=np.random.randint(1,5,size=(3,6))\n",
    "e.T"
   ]
  },
  {
   "cell_type": "code",
   "execution_count": 34,
   "metadata": {},
   "outputs": [
    {
     "data": {
      "text/plain": [
       "-65.99999999999997"
      ]
     },
     "execution_count": 34,
     "metadata": {},
     "output_type": "execute_result"
    }
   ],
   "source": [
    "#84\n",
    "f=np.random.randint(1,5,size=(4,4))\n",
    "np.linalg.det(f)"
   ]
  },
  {
   "cell_type": "code",
   "execution_count": 35,
   "metadata": {},
   "outputs": [
    {
     "data": {
      "text/plain": [
       "array([[-0.5   , -0.4375,  0.8125],\n",
       "       [ 0.5   ,  0.8125, -0.9375],\n",
       "       [ 0.    , -0.5   ,  0.5   ]])"
      ]
     },
     "execution_count": 35,
     "metadata": {},
     "output_type": "execute_result"
    }
   ],
   "source": [
    "#85\n",
    "g=np.random.randint(1,5,size=(3,3))\n",
    "np.linalg.inv(g)"
   ]
  },
  {
   "cell_type": "code",
   "execution_count": null,
   "metadata": {},
   "outputs": [],
   "source": []
  },
  {
   "cell_type": "code",
   "execution_count": null,
   "metadata": {},
   "outputs": [],
   "source": []
  },
  {
   "cell_type": "code",
   "execution_count": null,
   "metadata": {},
   "outputs": [],
   "source": []
  },
  {
   "cell_type": "code",
   "execution_count": null,
   "metadata": {},
   "outputs": [],
   "source": []
  }
 ],
 "metadata": {
  "kernelspec": {
   "display_name": "Python 3 (ipykernel)",
   "language": "python",
   "name": "python3"
  },
  "language_info": {
   "codemirror_mode": {
    "name": "ipython",
    "version": 3
   },
   "file_extension": ".py",
   "mimetype": "text/x-python",
   "name": "python",
   "nbconvert_exporter": "python",
   "pygments_lexer": "ipython3",
   "version": "3.10.8"
  }
 },
 "nbformat": 4,
 "nbformat_minor": 4
}
