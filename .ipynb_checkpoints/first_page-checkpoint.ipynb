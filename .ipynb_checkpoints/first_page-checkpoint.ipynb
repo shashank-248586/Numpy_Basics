{
 "cells": [
  {
   "cell_type": "code",
   "execution_count": 7,
   "metadata": {
    "metadata": {}
   },
   "outputs": [],
   "source": [
    "#some basic module importation \n",
    "import numpy as np\n",
    "import random as r\n",
    "import pandas as pd"
   ]
  },
  {
   "cell_type": "code",
   "execution_count": 8,
   "metadata": {
    "metadata": {}
   },
   "outputs": [
    {
     "data": {
      "text/plain": [
       "numpy.ndarray"
      ]
     },
     "execution_count": 8,
     "metadata": {},
     "output_type": "execute_result"
    }
   ],
   "source": [
    "#01\n",
    "#use numpy store element are 1 to 5 and print its datadype\n",
    "l=[i for i in range(1,6)]\n",
    "a=np.array(l)\n",
    "type(a)"
   ]
  },
  {
   "cell_type": "code",
   "execution_count": 9,
   "metadata": {
    "metadata": {}
   },
   "outputs": [
    {
     "name": "stdout",
     "output_type": "stream",
     "text": [
      "<class 'numpy.float64'>\n",
      "<class 'numpy.float64'>\n",
      "<class 'numpy.float64'>\n"
     ]
    }
   ],
   "source": [
    "#02\n",
    "arr = np.array([1.5, 2.6, 3.7])\n",
    "for i in range (len(arr)):\n",
    "    print(type(arr[i]))"
   ]
  },
  {
   "cell_type": "code",
   "execution_count": 10,
   "metadata": {
    "metadata": {}
   },
   "outputs": [
    {
     "data": {
      "text/plain": [
       "array([3.+2.j, 4.+4.j, 2.+7.j])"
      ]
     },
     "execution_count": 10,
     "metadata": {},
     "output_type": "execute_result"
    }
   ],
   "source": [
    "#03\n",
    "#creating a array with 3 complex number\n",
    "arr=np.array([3+2j,4+4j,2+7j])\n",
    "arr"
   ]
  },
  {
   "cell_type": "code",
   "execution_count": 11,
   "metadata": {
    "metadata": {}
   },
   "outputs": [
    {
     "data": {
      "text/plain": [
       "array([1., 2., 3., 4.], dtype=float32)"
      ]
     },
     "execution_count": 11,
     "metadata": {},
     "output_type": "execute_result"
    }
   ],
   "source": [
    "#04\n",
    "a=np.array([1,2,3,4])\n",
    "b=[a[i].astype(np.float32) for i in range(len(a))]\n",
    "result=np.array(b)\n",
    "result"
   ]
  },
  {
   "cell_type": "code",
   "execution_count": 12,
   "metadata": {
    "metadata": {}
   },
   "outputs": [
    {
     "data": {
      "text/plain": [
       "array([2., 3., 4., 5., 6.], dtype=float32)"
      ]
     },
     "execution_count": 12,
     "metadata": {},
     "output_type": "execute_result"
    }
   ],
   "source": [
    "#05\n",
    "#array with float 64 to float 32\n",
    "a=np.array([2,3,4,5,6]).astype(np.float64)\n",
    "b=[]\n",
    "for i in range(len(a)):\n",
    "    b.append(a[i].astype(np.float32))\n",
    "\n",
    "np.array(b)"
   ]
  },
  {
   "cell_type": "code",
   "execution_count": 13,
   "metadata": {
    "metadata": {}
   },
   "outputs": [
    {
     "data": {
      "text/plain": [
       "{'size': 5, 'shape': (5,), 'datatype': numpy.ndarray}"
      ]
     },
     "execution_count": 13,
     "metadata": {},
     "output_type": "execute_result"
    }
   ],
   "source": [
    "#06\n",
    "# Function about of array\n",
    "def array_attribute(a):\n",
    "    d={}\n",
    "    d['size']=a.size\n",
    "    d['shape']=a.shape\n",
    "    d['datatype']=type(a)\n",
    "    return d\n",
    "a=np.array([2,4,5,6,6])\n",
    "array_attribute(a)\n"
   ]
  },
  {
   "cell_type": "code",
   "execution_count": 14,
   "metadata": {
    "metadata": {}
   },
   "outputs": [
    {
     "data": {
      "text/plain": [
       "2"
      ]
     },
     "execution_count": 14,
     "metadata": {},
     "output_type": "execute_result"
    }
   ],
   "source": [
    "#07\n",
    "#funtion that return the dimention of a array\n",
    "def array_dimention(a):\n",
    "    return a.ndim\n",
    "a=np.array([[1,3,4],[2,5,6]])\n",
    "array_dimention(a)"
   ]
  },
  {
   "cell_type": "code",
   "execution_count": 15,
   "metadata": {
    "metadata": {}
   },
   "outputs": [
    {
     "data": {
      "text/plain": [
       "{'Itemsize': 8, 'total_size': 48}"
      ]
     },
     "execution_count": 15,
     "metadata": {},
     "output_type": "execute_result"
    }
   ],
   "source": [
    "#08\n",
    "#Function that gives itemsize and total size in bytes\n",
    "def item_size_info(a):\n",
    "    d={}\n",
    "    d['Itemsize']=a.itemsize\n",
    "    d['total_size']=a.nbytes\n",
    "    return d\n",
    "a=np.array([[1,3,4],[2,5,6]])\n",
    "item_size_info(a)"
   ]
  },
  {
   "cell_type": "code",
   "execution_count": 16,
   "metadata": {
    "metadata": {}
   },
   "outputs": [],
   "source": [
    "#09"
   ]
  },
  {
   "cell_type": "code",
   "execution_count": 17,
   "metadata": {
    "metadata": {}
   },
   "outputs": [],
   "source": [
    "#10"
   ]
  },
  {
   "cell_type": "code",
   "execution_count": 18,
   "metadata": {
    "metadata": {}
   },
   "outputs": [
    {
     "data": {
      "text/plain": [
       "array([[0., 0., 0.]])"
      ]
     },
     "execution_count": 18,
     "metadata": {},
     "output_type": "execute_result"
    }
   ],
   "source": [
    "#11\n",
    "#Example of zero array\n",
    "def create_zeroes_array(n):\n",
    "    a=np.zeros((1,n))\n",
    "    return a\n",
    "a=create_zeroes_array(3)\n",
    "a"
   ]
  },
  {
   "cell_type": "code",
   "execution_count": 19,
   "metadata": {
    "metadata": {}
   },
   "outputs": [
    {
     "data": {
      "text/plain": [
       "array([[1., 1., 1., 1.],\n",
       "       [1., 1., 1., 1.]])"
      ]
     },
     "execution_count": 19,
     "metadata": {},
     "output_type": "execute_result"
    }
   ],
   "source": [
    "#12\n",
    "def create_ones_matrix(m,n):\n",
    "    a=np.ones((m,n))\n",
    "    return a\n",
    "a=create_ones_matrix(2,4)\n",
    "a"
   ]
  },
  {
   "cell_type": "code",
   "execution_count": 20,
   "metadata": {
    "metadata": {}
   },
   "outputs": [
    {
     "data": {
      "text/plain": [
       "array([40,  7])"
      ]
     },
     "execution_count": 20,
     "metadata": {},
     "output_type": "execute_result"
    }
   ],
   "source": [
    "#13\n",
    "#Generate array according to start end and jump\n",
    "def generate_range_array(a,b,c=1):\n",
    "    a=np.random.randint(a,b,c)\n",
    "    return a\n",
    "generate_range_array(2,55,2)"
   ]
  },
  {
   "cell_type": "code",
   "execution_count": 21,
   "metadata": {
    "metadata": {}
   },
   "outputs": [
    {
     "data": {
      "text/plain": [
       "array([4.76617365, 2.03856125, 3.39279325, 7.60998117])"
      ]
     },
     "execution_count": 21,
     "metadata": {},
     "output_type": "execute_result"
    }
   ],
   "source": [
    "#14\n",
    "#Disign a function of genetate an array whose elaements are equaly scpaced \n",
    "def generate_linear_spaces(a,b,c):\n",
    "    a=np.random.uniform(a,b,c)\n",
    "    return a\n",
    "generate_linear_spaces(2,8,4)"
   ]
  },
  {
   "cell_type": "code",
   "execution_count": 22,
   "metadata": {
    "metadata": {}
   },
   "outputs": [
    {
     "data": {
      "text/plain": [
       "array([[1, 0, 0, 0, 0],\n",
       "       [0, 1, 0, 0, 0],\n",
       "       [0, 0, 1, 0, 0],\n",
       "       [0, 0, 0, 1, 0],\n",
       "       [0, 0, 0, 0, 1]])"
      ]
     },
     "execution_count": 22,
     "metadata": {},
     "output_type": "execute_result"
    }
   ],
   "source": [
    "#15\n",
    "#Function to create identy matrix\n",
    "def create_identy_matrix(n):\n",
    "    a=np.eye(n,dtype=int)\n",
    "    return a\n",
    "create_identy_matrix(5)"
   ]
  },
  {
   "cell_type": "code",
   "execution_count": 23,
   "metadata": {
    "metadata": {}
   },
   "outputs": [
    {
     "data": {
      "text/plain": [
       "array([1, 3, 4, 5])"
      ]
     },
     "execution_count": 23,
     "metadata": {},
     "output_type": "execute_result"
    }
   ],
   "source": [
    "#16\n",
    "#List to numpy array\n",
    "def list_to_arry(l):\n",
    "    return np.array(l)\n",
    "list_to_arry([1,3,4,5])"
   ]
  },
  {
   "cell_type": "code",
   "execution_count": 24,
   "metadata": {
    "metadata": {}
   },
   "outputs": [],
   "source": [
    "#17"
   ]
  },
  {
   "cell_type": "code",
   "execution_count": 25,
   "metadata": {
    "metadata": {}
   },
   "outputs": [],
   "source": [
    "#18"
   ]
  },
  {
   "cell_type": "code",
   "execution_count": 26,
   "metadata": {
    "metadata": {}
   },
   "outputs": [],
   "source": [
    "#19\n"
   ]
  },
  {
   "cell_type": "code",
   "execution_count": 27,
   "metadata": {
    "metadata": {}
   },
   "outputs": [],
   "source": [
    "#20\n"
   ]
  },
  {
   "cell_type": "code",
   "execution_count": 28,
   "metadata": {
    "metadata": {}
   },
   "outputs": [
    {
     "data": {
      "text/plain": [
       "array([1, 6, 6, 1, 5, 2, 5, 5, 7, 4])"
      ]
     },
     "execution_count": 28,
     "metadata": {},
     "output_type": "execute_result"
    }
   ],
   "source": [
    "#21\n",
    "#create an array of integers of spesified range \n",
    "def make_matrix(start ,end, noOf_element):\n",
    "    a=np.random.randint(start,end,noOf_element)\n",
    "    return a\n",
    "make_matrix(1,8,10)"
   ]
  },
  {
   "cell_type": "code",
   "execution_count": 29,
   "metadata": {
    "metadata": {}
   },
   "outputs": [
    {
     "data": {
      "text/plain": [
       "array([ 1.        ,  1.18367347,  1.36734694,  1.55102041,  1.73469388,\n",
       "        1.91836735,  2.10204082,  2.28571429,  2.46938776,  2.65306122,\n",
       "        2.83673469,  3.02040816,  3.20408163,  3.3877551 ,  3.57142857,\n",
       "        3.75510204,  3.93877551,  4.12244898,  4.30612245,  4.48979592,\n",
       "        4.67346939,  4.85714286,  5.04081633,  5.2244898 ,  5.40816327,\n",
       "        5.59183673,  5.7755102 ,  5.95918367,  6.14285714,  6.32653061,\n",
       "        6.51020408,  6.69387755,  6.87755102,  7.06122449,  7.24489796,\n",
       "        7.42857143,  7.6122449 ,  7.79591837,  7.97959184,  8.16326531,\n",
       "        8.34693878,  8.53061224,  8.71428571,  8.89795918,  9.08163265,\n",
       "        9.26530612,  9.44897959,  9.63265306,  9.81632653, 10.        ])"
      ]
     },
     "execution_count": 29,
     "metadata": {},
     "output_type": "execute_result"
    }
   ],
   "source": [
    "#22\n",
    "#create matrix for equally spased\n",
    "def make_equally_spaced(start,end ,noof_element):\n",
    "    a=np.linspace(start,end,noof_element)\n",
    "    return a\n",
    "make_equally_spaced(1,10,50)"
   ]
  },
  {
   "cell_type": "code",
   "execution_count": 30,
   "metadata": {
    "metadata": {}
   },
   "outputs": [
    {
     "name": "stderr",
     "output_type": "stream",
     "text": [
      "/opt/conda/lib/python3.10/site-packages/numpy/core/function_base.py:277: RuntimeWarning: overflow encountered in power\n",
      "  return _nx.power(base, y)\n"
     ]
    },
    {
     "data": {
      "text/plain": [
       "array([1.00000000e+001, 5.62341325e+250,             inf,             inf,\n",
       "                   inf])"
      ]
     },
     "execution_count": 30,
     "metadata": {},
     "output_type": "execute_result"
    }
   ],
   "source": [
    "#23\n",
    "# Code for genarate a logspace matrix of given range\n",
    "def make_log_spaced():\n",
    "    a=np.logspace(1,1000,5)\n",
    "    return a \n",
    "make_log_spaced()\n"
   ]
  },
  {
   "cell_type": "code",
   "execution_count": 31,
   "metadata": {
    "metadata": {}
   },
   "outputs": [
    {
     "data": {
      "text/html": [
       "<div>\n",
       "<style scoped>\n",
       "    .dataframe tbody tr th:only-of-type {\n",
       "        vertical-align: middle;\n",
       "    }\n",
       "\n",
       "    .dataframe tbody tr th {\n",
       "        vertical-align: top;\n",
       "    }\n",
       "\n",
       "    .dataframe thead th {\n",
       "        text-align: right;\n",
       "    }\n",
       "</style>\n",
       "<table border=\"1\" class=\"dataframe\">\n",
       "  <thead>\n",
       "    <tr style=\"text-align: right;\">\n",
       "      <th></th>\n",
       "      <th>0</th>\n",
       "      <th>1</th>\n",
       "      <th>2</th>\n",
       "    </tr>\n",
       "  </thead>\n",
       "  <tbody>\n",
       "    <tr>\n",
       "      <th>0</th>\n",
       "      <td>79</td>\n",
       "      <td>2</td>\n",
       "      <td>28</td>\n",
       "    </tr>\n",
       "    <tr>\n",
       "      <th>1</th>\n",
       "      <td>20</td>\n",
       "      <td>86</td>\n",
       "      <td>96</td>\n",
       "    </tr>\n",
       "    <tr>\n",
       "      <th>2</th>\n",
       "      <td>85</td>\n",
       "      <td>3</td>\n",
       "      <td>10</td>\n",
       "    </tr>\n",
       "    <tr>\n",
       "      <th>3</th>\n",
       "      <td>45</td>\n",
       "      <td>56</td>\n",
       "      <td>34</td>\n",
       "    </tr>\n",
       "    <tr>\n",
       "      <th>4</th>\n",
       "      <td>29</td>\n",
       "      <td>6</td>\n",
       "      <td>23</td>\n",
       "    </tr>\n",
       "  </tbody>\n",
       "</table>\n",
       "</div>"
      ],
      "text/plain": [
       "    0   1   2\n",
       "0  79   2  28\n",
       "1  20  86  96\n",
       "2  85   3  10\n",
       "3  45  56  34\n",
       "4  29   6  23"
      ]
     },
     "execution_count": 31,
     "metadata": {},
     "output_type": "execute_result"
    }
   ],
   "source": [
    "#24\n",
    "#creation of a dataframe having 5 row and 3 column\n",
    "df=pd.DataFrame(np.random.randint(1,100,size=(5,3)))\n",
    "df"
   ]
  },
  {
   "cell_type": "code",
   "execution_count": 32,
   "metadata": {
    "metadata": {}
   },
   "outputs": [
    {
     "data": {
      "text/html": [
       "<div>\n",
       "<style scoped>\n",
       "    .dataframe tbody tr th:only-of-type {\n",
       "        vertical-align: middle;\n",
       "    }\n",
       "\n",
       "    .dataframe tbody tr th {\n",
       "        vertical-align: top;\n",
       "    }\n",
       "\n",
       "    .dataframe thead th {\n",
       "        text-align: right;\n",
       "    }\n",
       "</style>\n",
       "<table border=\"1\" class=\"dataframe\">\n",
       "  <thead>\n",
       "    <tr style=\"text-align: right;\">\n",
       "      <th></th>\n",
       "      <th>hj</th>\n",
       "      <th>jjii</th>\n",
       "    </tr>\n",
       "  </thead>\n",
       "  <tbody>\n",
       "    <tr>\n",
       "      <th>0</th>\n",
       "      <td>0</td>\n",
       "      <td>-6</td>\n",
       "    </tr>\n",
       "    <tr>\n",
       "      <th>1</th>\n",
       "      <td>5</td>\n",
       "      <td>7</td>\n",
       "    </tr>\n",
       "    <tr>\n",
       "      <th>2</th>\n",
       "      <td>6</td>\n",
       "      <td>-4</td>\n",
       "    </tr>\n",
       "    <tr>\n",
       "      <th>3</th>\n",
       "      <td>7</td>\n",
       "      <td>6</td>\n",
       "    </tr>\n",
       "  </tbody>\n",
       "</table>\n",
       "</div>"
      ],
      "text/plain": [
       "   hj  jjii\n",
       "0   0    -6\n",
       "1   5     7\n",
       "2   6    -4\n",
       "3   7     6"
      ]
     },
     "execution_count": 32,
     "metadata": {},
     "output_type": "execute_result"
    }
   ],
   "source": [
    "#25\n",
    "#Construct a function that take input a dataframe and column of that dataframe and make negative value\n",
    "#as rero\n",
    "def make_negative_zero(df,col):\n",
    "    df[col]=df[col].apply(lambda x: 0 if (x<0) else x )\n",
    "    pass\n",
    "d={'hj':[-3,5,6,7],'jjii':[-6,7,-4,6]}\n",
    "df=pd.DataFrame(d)\n",
    "df\n",
    "make_negative_zero(df,\"hj\")\n",
    "df"
   ]
  },
  {
   "cell_type": "code",
   "execution_count": 33,
   "metadata": {
    "metadata": {}
   },
   "outputs": [
    {
     "name": "stdout",
     "output_type": "stream",
     "text": [
      "The third element is  30\n"
     ]
    }
   ],
   "source": [
    "#26\n",
    "#givernarray\n",
    "arr = np.array([10, 20, 30, 40, 50])\n",
    "print(\"The third element is \",arr[2])"
   ]
  },
  {
   "cell_type": "code",
   "execution_count": 34,
   "metadata": {
    "metadata": {}
   },
   "outputs": [
    {
     "name": "stdout",
     "output_type": "stream",
     "text": [
      "The element at 1,2 is  2\n"
     ]
    }
   ],
   "source": [
    "#27\n",
    "#Given array is\n",
    "arr_2d = np.array([[1, 2, 3],\n",
    " [4, 5, 6],\n",
    " [7, 8, 9]])\n",
    "print(\"The element at 1,2 is \",arr_2d[0][1])"
   ]
  },
  {
   "cell_type": "code",
   "execution_count": 35,
   "metadata": {
    "metadata": {}
   },
   "outputs": [
    {
     "name": "stdout",
     "output_type": "stream",
     "text": [
      "8\n",
      "10\n",
      "7\n"
     ]
    }
   ],
   "source": [
    "#28\n",
    "#Given that a array usxinfg boolian indexing find elemrnt greatter than 5\n",
    "arr = np.array([3, 8, 2, 10, 5, 7])\n",
    "ib=[]\n",
    "for i in arr:\n",
    "    if i>5:\n",
    "        ib.append(1)\n",
    "    else:\n",
    "        ib.append(0)\n",
    "for i,j in zip(arr,ib):\n",
    "    if j==1:\n",
    "        print(i)"
   ]
  },
  {
   "cell_type": "code",
   "execution_count": 36,
   "metadata": {
    "metadata": {}
   },
   "outputs": [
    {
     "data": {
      "text/plain": [
       "array([3, 4, 5, 6])"
      ]
     },
     "execution_count": 36,
     "metadata": {},
     "output_type": "execute_result"
    }
   ],
   "source": [
    "#29\n",
    "#given array and slice 2 to 5 inclusive\n",
    "arr = np.array([1, 2, 3, 4, 5, 6, 7, 8, 9])\n",
    "arr[2:6]"
   ]
  },
  {
   "cell_type": "code",
   "execution_count": 37,
   "metadata": {
    "metadata": {}
   },
   "outputs": [
    {
     "data": {
      "text/plain": [
       "array([[2, 3],\n",
       "       [5, 6]])"
      ]
     },
     "execution_count": 37,
     "metadata": {},
     "output_type": "execute_result"
    }
   ],
   "source": [
    "#30\n",
    "# Example of sliceing\n",
    "arr_2d = np.array([[1, 2, 3],\n",
    " [4, 5, 6],\n",
    " [7, 8, 9]])\n",
    "arr_2d[:2,1:]"
   ]
  },
  {
   "cell_type": "code",
   "execution_count": 38,
   "metadata": {
    "metadata": {}
   },
   "outputs": [
    {
     "data": {
      "text/plain": [
       "[4, 3]"
      ]
     },
     "execution_count": 38,
     "metadata": {},
     "output_type": "execute_result"
    }
   ],
   "source": [
    "#31\n",
    "#function for input index as array and return the element\n",
    "def extract(array,index):\n",
    "    l=[]\n",
    "    for i,j in index:\n",
    "        l.append(array[i,j])\n",
    "    return l\n",
    "a=np.array([[1,2,3],[3,4,5]])\n",
    "index=[[1,1],[1,0]]\n",
    "extract(a,index)\n"
   ]
  },
  {
   "cell_type": "code",
   "execution_count": 39,
   "metadata": {
    "metadata": {}
   },
   "outputs": [
    {
     "name": "stdout",
     "output_type": "stream",
     "text": [
      "[4, 5, 6, 7]\n"
     ]
    }
   ],
   "source": [
    "#32\n",
    "#Filter a given array with given thresold using boolian indexing\n",
    "def filter(array,thresold):\n",
    "    l=[]\n",
    "    k=[]\n",
    "    for i in array:\n",
    "        if i>thresold:\n",
    "            l.append(1)\n",
    "        else:\n",
    "            l.append(0)\n",
    "    for i,j in zip(array,l):\n",
    "        if j==1:\n",
    "            k.append(i)\n",
    "    return k\n",
    "a=np.array([1,2,3,4,5,6,7])\n",
    "print(filter(a,3))"
   ]
  },
  {
   "cell_type": "code",
   "execution_count": 40,
   "metadata": {
    "metadata": {}
   },
   "outputs": [
    {
     "data": {
      "text/plain": [
       "[2, 2, 8, 5]"
      ]
     },
     "execution_count": 40,
     "metadata": {},
     "output_type": "execute_result"
    }
   ],
   "source": [
    "#33\n",
    "#Extract element on 3 d array given indexies\n",
    "def extract(array,a1,a2,a3):\n",
    "    l=[arr[i][j][k] for i,j,k in zip(a1,a2,a3)]\n",
    "    return l\n",
    "arr=np.array([[[1,2,3,4],[4,5,3,5]],[[2,6,8,9],[8,9,6,7]]])  #4by2by2 3D array\n",
    "a1=[1,0,1,0]\n",
    "a2=[0,0,1,1]\n",
    "a3=[0,1,0,1]\n",
    "extract(arr,a1,a2,a3)"
   ]
  },
  {
   "cell_type": "code",
   "execution_count": 41,
   "metadata": {
    "metadata": {}
   },
   "outputs": [
    {
     "data": {
      "text/plain": [
       "[5, 6]"
      ]
     },
     "execution_count": 41,
     "metadata": {},
     "output_type": "execute_result"
    }
   ],
   "source": [
    "#34\n",
    "def extract(arr,thresold1,thresold2):\n",
    "    l=[]\n",
    "    k=[]\n",
    "    for i in arr:\n",
    "        if i>thresold1 and i<=thresold2:\n",
    "            l.append(1)\n",
    "        else:\n",
    "            l.append(0)\n",
    "    for i,j in zip(arr,l):\n",
    "        if j==1:\n",
    "            k.append(i)\n",
    "    return k\n",
    "a=np.array([1,2,3,4,5,6,7,8,9])\n",
    "extract(a,4,6)"
   ]
  },
  {
   "cell_type": "code",
   "execution_count": 42,
   "metadata": {
    "metadata": {}
   },
   "outputs": [
    {
     "data": {
      "text/plain": [
       "[4, 3]"
      ]
     },
     "execution_count": 42,
     "metadata": {},
     "output_type": "execute_result"
    }
   ],
   "source": [
    "#35\n",
    "def extract(array,index):\n",
    "    l=[]\n",
    "    for i,j in index:\n",
    "        l.append(array[i,j])\n",
    "    return l\n",
    "a=np.array([[1,2,3],[3,4,5]])\n",
    "index=[[1,1],[1,0]]\n",
    "extract(a,index)"
   ]
  },
  {
   "cell_type": "code",
   "execution_count": 43,
   "metadata": {
    "metadata": {}
   },
   "outputs": [
    {
     "data": {
      "text/plain": [
       "array([[[ 6,  7,  8,  9],\n",
       "        [ 7,  8,  9, 10]],\n",
       "\n",
       "       [[ 6,  7,  8,  9],\n",
       "        [ 8,  9, 10, 11]]])"
      ]
     },
     "execution_count": 43,
     "metadata": {},
     "output_type": "execute_result"
    }
   ],
   "source": [
    "#36\n",
    "a=np.array([[[1,2,3,4],[2,3,4,5]],[[1,2,3,4],[3,4,5,6]]])\n",
    "a +5"
   ]
  },
  {
   "cell_type": "code",
   "execution_count": 44,
   "metadata": {
    "metadata": {}
   },
   "outputs": [
    {
     "data": {
      "text/plain": [
       "array([[26, 25, 31, 37]])"
      ]
     },
     "execution_count": 44,
     "metadata": {},
     "output_type": "execute_result"
    }
   ],
   "source": [
    "#37\n",
    "#array multiplication\n",
    "a1=np.array([[1,2,3]])\n",
    "a2=np.array([[11,2,3,4],[3,4,5,6],[3,5,6,7]])\n",
    "a1@a2"
   ]
  },
  {
   "cell_type": "code",
   "execution_count": 45,
   "metadata": {
    "metadata": {}
   },
   "outputs": [
    {
     "data": {
      "text/plain": [
       "array([[ 4,  5, 12,  4],\n",
       "       [ 5,  8,  3, 11],\n",
       "       [ 6,  9, 10,  9]])"
      ]
     },
     "execution_count": 45,
     "metadata": {},
     "output_type": "execute_result"
    }
   ],
   "source": [
    "#38\n",
    "a1=np.array([[1,2,3,4]])\n",
    "a2=np.array([[3,4,5],[3,6,7],[9,0,7],[0,7,5]])\n",
    "a1+a2.T"
   ]
  },
  {
   "cell_type": "code",
   "execution_count": 46,
   "metadata": {
    "metadata": {}
   },
   "outputs": [
    {
     "data": {
      "text/plain": [
       "array([[ 4,  5, 12,  4],\n",
       "       [ 5,  8,  3, 11],\n",
       "       [ 6,  9, 10,  9]])"
      ]
     },
     "execution_count": 46,
     "metadata": {},
     "output_type": "execute_result"
    }
   ],
   "source": [
    "#39\n",
    "a1=np.array([[1,2,3,4]])\n",
    "a2=np.array([[3,4,5],[3,6,7],[9,0,7],[0,7,5]])\n",
    "a1+a2.T"
   ]
  },
  {
   "cell_type": "code",
   "execution_count": 47,
   "metadata": {},
   "outputs": [],
   "source": [
    "#40\n"
   ]
  },
  {
   "cell_type": "code",
   "execution_count": null,
   "metadata": {},
   "outputs": [],
   "source": []
  },
  {
   "cell_type": "code",
   "execution_count": null,
   "metadata": {},
   "outputs": [],
   "source": []
  },
  {
   "cell_type": "code",
   "execution_count": null,
   "metadata": {},
   "outputs": [],
   "source": []
  },
  {
   "cell_type": "code",
   "execution_count": null,
   "metadata": {},
   "outputs": [],
   "source": []
  },
  {
   "cell_type": "code",
   "execution_count": null,
   "metadata": {},
   "outputs": [],
   "source": []
  }
 ],
 "metadata": {
  "kernelspec": {
   "display_name": "Python 3 (ipykernel)",
   "language": "python",
   "name": "python3"
  },
  "language_info": {
   "codemirror_mode": {
    "name": "ipython",
    "version": 3
   },
   "file_extension": ".py",
   "mimetype": "text/x-python",
   "name": "python",
   "nbconvert_exporter": "python",
   "pygments_lexer": "ipython3",
   "version": "3.10.8"
  }
 },
 "nbformat": 4,
 "nbformat_minor": 4
}
